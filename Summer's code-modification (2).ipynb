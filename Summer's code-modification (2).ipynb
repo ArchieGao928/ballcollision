{
 "cells": [
  {
   "cell_type": "code",
   "execution_count": 1,
   "id": "3155f1f9",
   "metadata": {},
   "outputs": [
    {
     "name": "stdout",
     "output_type": "stream",
     "text": [
      "pygame 2.0.1 (SDL 2.0.14, Python 3.8.11)\n",
      "Hello from the pygame community. https://www.pygame.org/contribute.html\n"
     ]
    }
   ],
   "source": [
    "import random\n",
    "from numpy.core.fromnumeric import size\n",
    "import pygame\n",
    "import sys\n",
    "from pygame.surfarray import pixels2d\n",
    "import pymunk\n",
    "import pymunk.pygame_util\n",
    "import numpy\n",
    "import numpy as np\n",
    "import math\n",
    "from math import cos, inf, pi\n",
    "import matplotlib.pyplot as plt\n",
    "import matplotlib.animation as animation\n",
    "import time"
   ]
  },
  {
   "cell_type": "code",
   "execution_count": 2,
   "id": "a11d9e50",
   "metadata": {},
   "outputs": [],
   "source": [
    "def draw_people():\n",
    "    global infectlist #\n",
    "    screen.fill((217,217,217))\n",
    "    for i in range(population):\n",
    "        pygame.draw.circle(screen, colors[tribe[i]], (x[i], y[i]), 3)\n",
    "\n",
    "    # Draw lines showing infections\n",
    "    #for infection in infectlist:\n",
    "        #pygame.draw.line(screen, colors[tribe[infection[0]]],(x[infection[0]],y[infection[0]]), (x[infection[1]],y[infection[1]]))\n",
    "    infectlist=[]"
   ]
  },
  {
   "cell_type": "code",
   "execution_count": 3,
   "id": "3a1e1da6",
   "metadata": {},
   "outputs": [],
   "source": [
    "##def move_people(trialnumber): #trial 0=red 1=blue\n",
    "\"\"\"\n",
    "    colorxboundary = xres\n",
    "    coloryboundary = yres\n",
    "    #x=np.minimum(np.maximum(x,0),colorxboundary-1e-6)\n",
    "    #y=np.minimum(np.maximum(y,0),coloryboundary-1e-6）\n",
    "\"\"\"\n",
    "def move_people():\n",
    "    global theta, x, y, xres, yres, tribe\n",
    "    d = 1\n",
    "    theta += dtheta*(np.random.random(population)-.5)\n",
    "    x += d * np.cos(theta)\n",
    "    y += d * np.sin(theta)\n",
    "\n",
    "# Reflecting BC's\n",
    "    b_pos = np.where(tribe >0)\n",
    "    x_b = x[b_pos]\n",
    "    #x_r = x[:499]\n",
    "    y_b = y[b_pos]\n",
    "    #y_r = y[:499]\n",
    "\n",
    "    flip=np.where(y<0)\n",
    "    y[flip] = y[flip] +800 #torus\n",
    "    #y[flip]=-y[flip] #box\n",
    "    #theta[flip]=-theta[flip]\n",
    "\n",
    "    flip=np.where(x>=xres)\n",
    "    x[flip] = x[flip] - 800 #torus\n",
    "    #x[flip]=2*xres-x[flip]-1e-6 #box\n",
    "    #theta[flip]=pi-theta[flip]\n",
    "    \n",
    "    flip=np.where(x_b<200)#\n",
    "    x_b[flip] = x_b[flip] + 600\n",
    "    x[b_pos] = x_b\n",
    "    \n",
    "    flip=np.where(x<0)\n",
    "    x[flip] = x[flip] + 800 #torus\n",
    "    #x[flip]=-x[flip] #box\n",
    "    #theta[flip]=pi-theta[flip]\n",
    "    \n",
    "    flip=np.where(y_b>=600)\n",
    "    y_b[flip] = y_b[flip]- 600\n",
    "    y[b_pos] = y_b\n",
    "    \n",
    "    \n",
    "    flip=np.where(y>=yres)\n",
    "    y[flip] = y[flip]- 800 #torus\n",
    "    #y[flip]=2*yres-y[flip]-1e-6 #box\n",
    "    #theta[flip]=-theta[flip]\n",
    "\n",
    "\n",
    "# This just keeps them in the box\n",
    "    #x=np.minimum(np.maximum(x,0),xres-1e-6)\n",
    "    #y=np.minimum(np.maximum(y,0),yres-1e-6）"
   ]
  },
  {
   "cell_type": "code",
   "execution_count": 4,
   "id": "b7de36ca",
   "metadata": {},
   "outputs": [],
   "source": [
    "def bin_people():\n",
    "    global ix, iy\n",
    "    ixold=ix #Keep track of old bin assignments\n",
    "    iyold=iy\n",
    "    ix=(x/P).astype(int) #Get new bin assignments\n",
    "    iy=(y/P).astype(int)\n",
    "    moved=np.where(np.logical_or(ixold != ix,iyold != iy))[0] #Get list of people that have moved bins\n",
    "    for i in moved: #Update bin lists\n",
    "        try:\n",
    "            patches[ixold[i]][iyold[i]].remove(i)\n",
    "        except ValueError:\n",
    "            pass\n",
    "        patches[ix[i]][iy[i]].append(i)\n",
    "\n",
    "    # Check if patch is uniform (can accelerate searching for interactions between different tribes)\n",
    "    for i in range(nx):\n",
    "        for j in range(ny):\n",
    "            if patches[i][j]:\n",
    "                ptribe[i,j]=tribe[patches[i][j][0]] if np.all(tribe[patches[i][j]]==tribe[patches[i][j][0]]) else MIXED\n",
    "            else:\n",
    "                ptribe[i,j]=MIXED\n"
   ]
  },
  {
   "cell_type": "code",
   "execution_count": 5,
   "id": "52af640d",
   "metadata": {},
   "outputs": [],
   "source": [
    "FluxListBlue = []\n",
    "FluxListRed = []\n",
    "Reacttime = []\n",
    "\n",
    "def infect():\n",
    "    reactiontime = time.time() - starttime\n",
    "\n",
    "    bin_people()\n",
    "    oldtribe=tribe.copy()\n",
    "\n",
    "    for i1 in range(nx): # Loop over bins (in x)\n",
    "        for j1 in range(ny): # Loop over bins (in y)\n",
    "            if not patches[i1][j1]: #patch is empty\n",
    "                continue\n",
    "            for off in offsets:  # Loop over list of relative bin coords to check\n",
    "                i2=i1+off[0] # Get neighboring bin index\n",
    "                j2=j1+off[1]\n",
    "                if i2 < 0 or i2 > nx-1 or j2 < 0 or j2 > ny-1: #Check that neighboring bin exists and is not outside of domain\n",
    "                    continue\n",
    "                if not patches[i2][j2]:\n",
    "                    continue\n",
    "                if ptribe[i1,j1] != MIXED and ptribe[i1,j1]==ptribe[i2,j2]:\n",
    "                    continue #Both patches are uniform and have same tribe\n",
    "                for p1 in patches[i1][j1]: #Loop over people in patch [i,j]\n",
    "                    for p2 in patches[i2][j2]: #Loop over people in neighboring patch\n",
    "                        if (i1 == i2 and j1 == j2 and p2 <= p1):\n",
    "                            continue #Avoid double checking neighbors on self-patch\n",
    "                        if (x[p1]-x[p2])**2 + (y[p1]-y[p2])**2 < D2:  #Check if neighboring person in range\n",
    "\n",
    "                            # Infection logic (2 way)\n",
    "                            if tribe[p2] != oldtribe[p1]:\n",
    "                                tolerance[p2] = tolerance[p2] - 1\n",
    "\n",
    "\n",
    "                                if tolerance[p2] <= 0:\n",
    "                                    infectlist.append([p1, p2]) #\n",
    "                                    tolerance[p2] = 1000 #THIS IS JUST FOR THE LOGIC STATEMENT, NOT PERMANENT\n",
    "\n",
    "                            if tribe[p1] != oldtribe[p2]:\n",
    "                                tolerance[p1] = tolerance[p1] - 1\n",
    "\n",
    "                                if tolerance[p1] <= 0:\n",
    "                                    infectlist.append([p2, p1]) #\n",
    "                                    tolerance[p1] = 1000 #THIS IS JUST FOR THE LOGIC STATEMENT, NOT PERMANENT\n",
    "\n",
    "    # Counting Flux Initialization\n",
    "\n",
    "    FluxCounterBlue = 0  # (Red to blue)\n",
    "\n",
    "    FluxCounterRed = 0  # (Blue to red)\n",
    "    for infection in infectlist: #\n",
    "        if tribe[infection[1]] == 0: #if the infected was /is red\n",
    "            #tolerance[infection[1]] = average\n",
    "            tolerance[infection[1]] = distribution[random.randint(0, int(population)-1)]\n",
    "            FluxCounterBlue = FluxCounterBlue + 1 #Infected by Blue\n",
    "\n",
    "        if tribe[infection[1]] == 1: #if the infected was/ is blue\n",
    "            tolerance[infection[1]] = average\n",
    "            #tolerance[infection[1]] = distribution_2nd[random.randint(0, int(population)-1)]\n",
    "            FluxCounterRed = FluxCounterRed + 1 #Infected by red\n",
    "\n",
    "        #tolerance[infection[1]] = oldtolerance[infection[0]] # new tolerance is original tolerance of infector\n",
    "        tribe[infection[1]] = oldtribe[infection[0]]\n",
    "        # updates tolerances and tribes of infected individuals\n",
    "    for infection in infectlist: #\n",
    "        oldtolerance[infection[1]] = tolerance[infection[1]]\n",
    "\n",
    "    FluxListBlue.append(FluxCounterBlue)\n",
    "    FluxListRed.append(FluxCounterRed)\n",
    "    Reacttime.append(reactiontime)\n",
    "    if max(Reacttime) > 20.0 and max(Reacttime) < 20.01:\n",
    "        #tolerancelist5 = tolerancelist[:len(tolerancelist)//2]\n",
    "        #tolerancelist6 = tolerancelist[len(tolerancelist)//2:]\n",
    "        #plt.hist([tolerancelist5,tolerancelist6])\n",
    "            #continue\n",
    "        print(max(Reacttime))\n",
    "\n",
    "        \n",
    "\n",
    "\n",
    "def infect2(): #Simpler brute force approach\n",
    "    mask =np.power(np.subtract.outer(x, x),2) + np.power(np.subtract.outer(y, y),2) < D2\n",
    "\n",
    "    for i in range(population):\n",
    "        targets = (np.where(mask[i,:]))[0]\n",
    "        for j in targets:\n",
    "            # Infection logic (1 way)\n",
    "            if tolerance[i] > tolerance[j]:\n",
    "                tribe[j]=tribe[i]\n",
    "                tolerance[j]=tolerance[i]\n"
   ]
  },
  {
   "cell_type": "code",
   "execution_count": 6,
   "id": "7d0b87e0",
   "metadata": {
    "scrolled": true
   },
   "outputs": [],
   "source": [
    "# INIT\n",
    "pygame.init()\n",
    "xres=800\n",
    "yres=800\n",
    "screen = pygame.display.set_mode((xres, yres))\n",
    "clock = pygame.time.Clock()\n",
    "surface = pygame.Surface((10, 10))\n",
    "space = pymunk.Space()\n",
    "#options = pymunk.pygame_util.DrawOptions(surface)\n",
    "#space.debug_draw(options)\n",
    "#space.gravity = (0, 500)\n",
    "\n",
    "#initialization\n",
    "population = 1000\n",
    "x = np.zeros(population)\n",
    "y = np.zeros(population)\n",
    "theta = np.random.random(population)*pi*2\n",
    "tribe = np.zeros(population, dtype=int)\n",
    "ix=np.zeros(population, dtype=int)-1\n",
    "iy=np.zeros(population, dtype=int)-1\n",
    "tolerance = np.zeros(population)\n",
    "\n",
    "\n",
    "\n",
    "WHITE =     (255, 255, 255)\n",
    "BLUE =      (  0,   0, 255)\n",
    "GREEN =     (  0, 255,   0)\n",
    "RED =       (255,   0,   0)\n",
    "\n",
    "MIXED =-1 # Patches 'Tribe' when mixed\n",
    "colors = [RED, BLUE]\n",
    "dtheta = random.uniform(0,1) #angular step size in radians\n",
    "d=2 #distance in pixels per tick\n",
    "\n",
    "D = 15 #infect distance\n",
    "P = 40 # Patch size -  Making this smaller means particles will cross patch boundaries more frequently causing overhead.\n",
    "       #               Making it larger means there are more particles to consider for distance calculations\n",
    "\n",
    "D2=D**2\n",
    "nx=np.ceil(xres/P).astype(int)\n",
    "ny=np.ceil(yres/P).astype(int)\n",
    "\n",
    "patches=[ [ [] for i in range(nx)] for j in range(ny)]\n",
    "\n",
    "ptribe=np.zeros([nx,ny],dtype=int)+MIXED\n",
    "\n",
    "nxoff=np.ceil(D/P).astype(int)\n",
    "offsets=[]\n",
    "for i in range(-nxoff,nxoff):\n",
    "    for j in range(-nxoff,nxoff):\n",
    "        if (j > 0 or (j==0 and i >= 0)):\n",
    "            if (i**2+j**2)**0.5 < 2**0.5+D/P: #Patch is close enough to have overlaps\n",
    "                offsets.append([i,j])\n",
    "\n",
    "infectlist=[]\n",
    "\n",
    "average = 10\n",
    "stdev = 1.75\n",
    "distribution = np.random.normal(average, stdev, int(population))\n",
    "# distri 2\n",
    "average_2nd = 10\n",
    "stdev_2nd = 2\n",
    "distribution_2nd = np.random.normal(average_2nd, stdev_2nd, int(population))\n",
    "\n",
    "\n",
    "for i in range(500):#int(population/2)):\n",
    "    x[i] = 200\n",
    "    y[i] = 400\n",
    "    tribe[i] = 0 #(red)\n",
    "    tolerance[i] = average #CHANGE LATER\n",
    "    #tolerance[i] = distribution_2nd[i]\n",
    "\n",
    "\n",
    "for i in range(500, population):\n",
    "    x[i] = 600\n",
    "    y[i] = 400\n",
    "    tribe[i] = 1 #blue\n",
    "    tolerance[i] = distribution[i] #CHANGE LATER\n",
    "    #tolerance[i] = average #This is for checking the \"base case\" where variance is 0\n",
    "    if tolerance[i] <= 0:\n",
    "        tolerance[i] = 0\n",
    "oldtolerance=tolerance.copy()\n",
    "winner = 0\n",
    "\n",
    "\n",
    "def find_red_tol(tolerance):\n",
    "    Red_list = []\n",
    "    for i in range(population):\n",
    "        if tolerance[i][0] != 0:\n",
    "            Red_list.append(tolerance[i][0])\n",
    "        else: \n",
    "            continue\n",
    "    return Red_list\n",
    "def find_blue_tol(tolerance):\n",
    "    Blue_list = []\n",
    "    for i in range(population):\n",
    "        if tolerance[i][1] != 0:\n",
    "            Blue_list.append(tolerance[i][1])\n",
    "        else: \n",
    "            continue\n",
    "    return Blue_list\n",
    "def change_color_new(list_1):\n",
    "    y = list_1.index(max(list_1))\n",
    "    if y == 0: # change red to blue\n",
    "        list_1[0] = 0\n",
    "        list_1[1] = distribution[random.randint(0, int(population)-1)]\n",
    "        return list_1\n",
    "    else:#change blue to red\n",
    "        list_1[0] = average\n",
    "        list_1[1] = 0\n",
    "        return list_1\n",
    "def tol_minus_1(list_1):#list_1 is a list with only two elements\n",
    "    #print(list_1) # make the original (0,1) to (0,0) know  change which one\n",
    "    x = max(list_1)\n",
    "    y = list_1.index(x)\n",
    "    if x > 1:\n",
    "        x -= 1\n",
    "        list_1[y] = x\n",
    "    elif x<=1:\n",
    "        list_1 = change_color_new(list_1)\n",
    "    else:\n",
    "        print(1)\n",
    "    \n",
    "    return list_1\n",
    "#    print(list_2)\n",
    "#    _1_ = float(list_1[1])\n",
    "#    _0_ = float(list_1[0])\n",
    "    \n",
    "#    #if list_1[0] == list_1[1]:\n",
    "#        #return print(list_1[0],list_1[1],\"it should not have same number\")\n",
    "#    if _1_ < 0 or _0_ < 0:\n",
    "#        return print(list_1[0],list_1[1],\"it should not be negative, next loop has problem\")\n",
    "#    elif list_1[0] != 0:\n",
    "#        list_1[0] -= 1\n",
    "#        if list_1[0] <= 0:\n",
    "#            list_1 = change_color(list_1, list_2)\n",
    "#        return list_1\n",
    "#    elif list_1[1] != 0:\n",
    "#        list_1[1] -= 1\n",
    "#        if list_1[1] <= 0:\n",
    "#            list_1 = change_color(list_1,list_2)\n",
    "#        return list_1\n",
    "#    else:\n",
    "#        return print(list_1[0],list_1[1],\"what happenned\")\n",
    "\n",
    "def change_color(list_1, list_2): #list_1 & list_2 are lists with only two elements  list_2 is the original list\n",
    "    # it not change the color ,it change the position that has value of two list\n",
    "    if list_2[0] - list_1[0] != 0: # changing partical is red, it should change to blue\n",
    "        list_1[0] = 0\n",
    "        list_1[1] = distribution[random.randint(0, int(population)-1)]\n",
    "        return list_1\n",
    "    elif list_2[1] - list_1[1] != 0:\n",
    "        list_1[0] = average\n",
    "        list_1[1] = 0\n",
    "        return list_1\n",
    "    else:\n",
    "        print(list_1, list_2)\n",
    "\n",
    "#    if list_1[0] == list_1[1]:\n",
    "#        return print(list_1[0],list_1[1],\"it should not have same number_changecolor\")\n",
    "#    elif list_1[1] < 0 and list_1[0]<0:\n",
    "#        return print(list_1[0],list_1[1],\"it should not be negative, next loop has problem\")\n",
    "#    elif list_1[0] < 0: #it should change from red to blue\n",
    "#        list_1[0] = 0\n",
    "#        list_1[1] = distribution[random.randint(0, int(population)-1)]\n",
    "#        return list_1\n",
    "#    elif list_1[1] < 0: # it should change from blue to red\n",
    "#        list_1[1] = 0\n",
    "#        list_1[0] = average\n",
    "#        return list_1\n",
    "#    else:\n",
    "#        print(1)"
   ]
  },
  {
   "cell_type": "code",
   "execution_count": 7,
   "id": "902e4ce1",
   "metadata": {
    "scrolled": false
   },
   "outputs": [
    {
     "name": "stdout",
     "output_type": "stream",
     "text": [
      "500\n"
     ]
    },
    {
     "data": {
      "image/png": "[encoded data removed]",
      "text/plain": [
       "<Figure size 432x288 with 1 Axes>"
      ]
     },
     "metadata": {
      "needs_background": "light"
     },
     "output_type": "display_data"
    }
   ],
   "source": [
    "screen.fill((217, 217, 217))\n",
    "\n",
    "draw_people()\n",
    "\n",
    "tolerancelist_ori = tolerance.tolist()\n",
    "#####get another type of list with [red, blue\n",
    "every_tol = []\n",
    "population_r = []\n",
    "population_b = []\n",
    "for i in range(len(tolerancelist_ori)):#tolerancelist_ori:\n",
    "    if i < 500:#len(tolerancelist_ori)/2:\n",
    "        element = [tolerancelist_ori[i],0]\n",
    "        every_tol.append(element)\n",
    "    else:\n",
    "        every_tol.append([0,tolerancelist_ori[i]])\n",
    "bins = int(max(tolerancelist_ori))\n",
    "#tolerancelist3 = tolerancelist_ori[:len(tolerancelist_ori)//2] # red list\n",
    "tolerancelist0_r = find_red_tol(every_tol)\n",
    "#tolerancelist4 = tolerancelist_ori[len(tolerancelist_ori)//2:] # blue list\n",
    "tolerancelist0_b = find_blue_tol(every_tol)\n",
    "plt.hist([tolerancelist0_r,tolerancelist0_b], color=['red', 'blue'])#, bins, range, color=['red', 'blue'], histtype='bar', rwidth=0.8)\n",
    "print(len(tolerancelist0_b))\n"
   ]
  },
  {
   "cell_type": "code",
   "execution_count": 8,
   "id": "a1571dbc",
   "metadata": {
    "scrolled": false
   },
   "outputs": [
    {
     "ename": "IndexError",
     "evalue": "list index out of range",
     "output_type": "error",
     "traceback": [
      "\u001b[1;31m---------------------------------------------------------------------------\u001b[0m",
      "\u001b[1;31mIndexError\u001b[0m                                Traceback (most recent call last)",
      "\u001b[1;32mC:\\Users\\ALIENW~1\\AppData\\Local\\Temp/ipykernel_10164/4261605010.py\u001b[0m in \u001b[0;36m<module>\u001b[1;34m\u001b[0m\n\u001b[0;32m     30\u001b[0m     \u001b[0mreactiontime\u001b[0m \u001b[1;33m=\u001b[0m \u001b[0mtime\u001b[0m\u001b[1;33m.\u001b[0m\u001b[0mtime\u001b[0m\u001b[1;33m(\u001b[0m\u001b[1;33m)\u001b[0m \u001b[1;33m-\u001b[0m \u001b[0mstarttime\u001b[0m\u001b[1;33m\u001b[0m\u001b[1;33m\u001b[0m\u001b[0m\n\u001b[0;32m     31\u001b[0m \u001b[1;33m\u001b[0m\u001b[0m\n\u001b[1;32m---> 32\u001b[1;33m     \u001b[0mbin_people\u001b[0m\u001b[1;33m(\u001b[0m\u001b[1;33m)\u001b[0m\u001b[1;33m\u001b[0m\u001b[1;33m\u001b[0m\u001b[0m\n\u001b[0m\u001b[0;32m     33\u001b[0m     \u001b[0moldtribe\u001b[0m\u001b[1;33m=\u001b[0m\u001b[0mtribe\u001b[0m\u001b[1;33m.\u001b[0m\u001b[0mcopy\u001b[0m\u001b[1;33m(\u001b[0m\u001b[1;33m)\u001b[0m\u001b[1;33m\u001b[0m\u001b[1;33m\u001b[0m\u001b[0m\n\u001b[0;32m     34\u001b[0m     \u001b[1;32mfor\u001b[0m \u001b[0mi1\u001b[0m \u001b[1;32min\u001b[0m \u001b[0mrange\u001b[0m\u001b[1;33m(\u001b[0m\u001b[0mnx\u001b[0m\u001b[1;33m)\u001b[0m\u001b[1;33m:\u001b[0m \u001b[1;31m# Loop over bins (in x)\u001b[0m\u001b[1;33m\u001b[0m\u001b[1;33m\u001b[0m\u001b[0m\n",
      "\u001b[1;32mC:\\Users\\ALIENW~1\\AppData\\Local\\Temp/ipykernel_10164/2328110655.py\u001b[0m in \u001b[0;36mbin_people\u001b[1;34m()\u001b[0m\n\u001b[0;32m     11\u001b[0m         \u001b[1;32mexcept\u001b[0m \u001b[0mValueError\u001b[0m\u001b[1;33m:\u001b[0m\u001b[1;33m\u001b[0m\u001b[1;33m\u001b[0m\u001b[0m\n\u001b[0;32m     12\u001b[0m             \u001b[1;32mpass\u001b[0m\u001b[1;33m\u001b[0m\u001b[1;33m\u001b[0m\u001b[0m\n\u001b[1;32m---> 13\u001b[1;33m         \u001b[0mpatches\u001b[0m\u001b[1;33m[\u001b[0m\u001b[0mix\u001b[0m\u001b[1;33m[\u001b[0m\u001b[0mi\u001b[0m\u001b[1;33m]\u001b[0m\u001b[1;33m]\u001b[0m\u001b[1;33m[\u001b[0m\u001b[0miy\u001b[0m\u001b[1;33m[\u001b[0m\u001b[0mi\u001b[0m\u001b[1;33m]\u001b[0m\u001b[1;33m]\u001b[0m\u001b[1;33m.\u001b[0m\u001b[0mappend\u001b[0m\u001b[1;33m(\u001b[0m\u001b[0mi\u001b[0m\u001b[1;33m)\u001b[0m\u001b[1;33m\u001b[0m\u001b[1;33m\u001b[0m\u001b[0m\n\u001b[0m\u001b[0;32m     14\u001b[0m \u001b[1;33m\u001b[0m\u001b[0m\n\u001b[0;32m     15\u001b[0m     \u001b[1;31m# Check if patch is uniform (can accelerate searching for interactions between different tribes)\u001b[0m\u001b[1;33m\u001b[0m\u001b[1;33m\u001b[0m\u001b[1;33m\u001b[0m\u001b[0m\n",
      "\u001b[1;31mIndexError\u001b[0m: list index out of range"
     ]
    }
   ],
   "source": [
    "# Run game\n",
    "starttime = time.time()\n",
    "while True:\n",
    "    for event in pygame.event.get():\n",
    "        if event.type == pygame.QUIT:\n",
    "            print(\"Total red flux = \", TotalRedFlux)\n",
    "            print(\"Total blue flux = \", TotalBlueFlux)\n",
    "            print(\"Blue has\", BlueisUpBy, \"more switches than red\")\n",
    "            tolerancelist_fnsh = tolerance.tolist()\n",
    "            print(tolerancelist)\n",
    "            range = (0,max(tolerancelist))\n",
    "            bins = int(max(tolerancelist))\n",
    "            tolerancelist1 = tolerancelist_fns[:len(tolerancelist_fns)//2]\n",
    "            \n",
    "            tolerancelist2 = tolerancelist_fns[len(tolerancelistfns)//2:]\n",
    "            \n",
    "            plt.hist([tolerancelist1,tolerancelist2], bins, range, color=['red', 'blue'],histtype='bar', rwidth=0.8)\n",
    "\n",
    "            plt.show()\n",
    "\n",
    "            pygame.quit()\n",
    "            sys.exit()\n",
    "\n",
    "    screen.fill((217, 217, 217))\n",
    "\n",
    "    draw_people()\n",
    "    \n",
    "    move_people()\n",
    "###################################################################################################################################    \n",
    "    reactiontime = time.time() - starttime\n",
    "\n",
    "    bin_people()\n",
    "    oldtribe=tribe.copy()\n",
    "    for i1 in range(nx): # Loop over bins (in x)\n",
    "        for j1 in range(ny): # Loop over bins (in y)\n",
    "            if not patches[i1][j1]: #patch is empty\n",
    "                continue\n",
    "            for off in offsets:  # Loop over list of relative bin coords to check\n",
    "                i2=i1+off[0] # Get neighboring bin index\n",
    "                j2=j1+off[1]\n",
    "                if i2 < 0 or i2 > nx-1 or j2 < 0 or j2 > ny-1: #Check that neighboring bin exists and is not outside of domain\n",
    "                    continue\n",
    "                if not patches[i2][j2]:\n",
    "                    continue\n",
    "                if ptribe[i1,j1] != MIXED and ptribe[i1,j1]==ptribe[i2,j2]:\n",
    "                    continue #Both patches are uniform and have same tribe\n",
    "                for p1 in patches[i1][j1]: #Loop over people in patch [i,j]\n",
    "                    for p2 in patches[i2][j2]: #Loop over people in neighboring patch\n",
    "                        if (i1 == i2 and j1 == j2 and p2 <= p1):\n",
    "                            continue #Avoid double checking neighbors on self-patch\n",
    "                        if (x[p1]-x[p2])**2 + (y[p1]-y[p2])**2 < D2:  #Check if neighboring person in range\n",
    "\n",
    "                            # Infection logic (2 way)\n",
    "                            if tribe[p2] != oldtribe[p1]:\n",
    "                                #print(p2,tolerance[p2],every_tol[p2])\n",
    "                                tolerance[p2] = tolerance[p2] - 1\n",
    "                                ################change my new created list###############\n",
    "                                #list_1 = every_tol[p2] \n",
    "                                #every_tol[p2] = tol_minus_1(list_1)\n",
    "                                ##thisx = max(every_tol[p2])\n",
    "                                ##thisy = every_tol[p2].index(thisx)\n",
    "                                ##if thisx > 1:\n",
    "                                ##    thisx -= 1\n",
    "                                ##    every_tol[p2][thisy] = thisx\n",
    "                                ##elif thisx<=1:\n",
    "                                ##    every_tol[p2] = change_color_new(every_tol[p2])\n",
    "                                ##else:\n",
    "                                ##    print(1)\n",
    "#                                if every_tol[p2][0] < 0 or every_tol[p2][1] < 0:\n",
    "#                                    change_color(every_tol[p2])\n",
    "#                                else:\n",
    "#                                    continue\n",
    "\n",
    "                                if tolerance[p2] <= 0:\n",
    "                                    infectlist.append([p1, p2]) #\n",
    "                                    tolerance[p2] = 1000 #THIS IS JUST FOR THE LOGIC STATEMENT, NOT PERMANENT\n",
    "                                    \n",
    "\n",
    "                            if tribe[p1] != oldtribe[p2]:\n",
    "                                tolerance[p1] = tolerance[p1] - 1\n",
    "                                every_tol[p1] = tol_minus_1(every_tol[p1])\n",
    "#                                if every_tol[p1][0] < 0 or every_tol[p1][1] < 0:\n",
    "#                                    change_color(every_tol[p1])\n",
    "#                                else:\n",
    "#                                    continue\n",
    "\n",
    "                                if tolerance[p1] <= 0:\n",
    "                                    infectlist.append([p2, p1])#\n",
    "                                    tolerance[p1] = 1000 #THIS IS JUST FOR THE LOGIC STATEMENT, NOT PERMANENT\n",
    "#                                    change_color(every_tol[p1])\n",
    "\n",
    "    # Counting Flux Initialization\n",
    "    \n",
    "\n",
    "    FluxCounterBlue = 0  # (Red to blue)\n",
    "\n",
    "    FluxCounterRed = 0  # (Blue to red)\n",
    "    for infection in infectlist: #\n",
    "        if tribe[infection[1]] == 0: #if the infected was /is red\n",
    "            #tolerance[infection[1]] = average\n",
    "            tolerance[infection[1]] = distribution[random.randint(0, int(population)-1)]\n",
    "            FluxCounterBlue = FluxCounterBlue + 1 #Infected by Blue\n",
    "            #Blue_list.append(tolerance[infection[1]])\n",
    "\n",
    "        if tribe[infection[1]] == 1: #if the infected was/ is blue\n",
    "            tolerance[infection[1]] = average\n",
    "            #tolerance[infection[1]] = distribution_2nd[random.randint(0, int(population)-1)]\n",
    "            FluxCounterRed = FluxCounterRed + 1 #Infected by red\n",
    "            #Red_list.append(average)\n",
    "\n",
    "        #tolerance[infection[1]] = oldtolerance[infection[0]] # new tolerance is original tolerance of infector\n",
    "        tribe[infection[1]] = oldtribe[infection[0]]\n",
    "        # updates tolerances and tribes of infected individuals\n",
    "    for infection in infectlist:\n",
    "        oldtolerance[infection[1]] = tolerance[infection[1]]\n",
    "\n",
    "    \n",
    "    FluxListBlue.append(FluxCounterBlue)\n",
    "    FluxListRed.append(FluxCounterRed)\n",
    "    Reacttime.append(reactiontime)\n",
    "    ##curr_b_pop = sum(tribe)#len(find_red_tol(every_tol))\n",
    "    ##curr_r_pop = population - curr_b_pop#len(find_blue_tol(every_tol))\n",
    "    ##population_r.append(curr_r_pop)\n",
    "    ##population_b.append(curr_b_pop)\n",
    "    \n",
    "    #name_r = \"tolerancelist\" + str(max(Reacttime))+\"_r\"\n",
    "    #name_b = \"tolerancelist\" + str(max(Reacttime))+\"_b\"\n",
    "    ##if max(Reacttime) > 5.0 and max(Reacttime) < 5.015:\n",
    "    ##    tolerancelist_sp1 = tolerance.tolist()  \n",
    "    ##    tolerancelist5_r = find_red_tol(every_tol)\n",
    "    ##    tolerancelist5_b = find_blue_tol(every_tol)\n",
    "        #print(max(Reacttime))\n",
    "    ##if max(Reacttime) > 10.0 and max(Reacttime) < 10.015:\n",
    "    ##    tolerancelist_sp1 = tolerance.tolist()  \n",
    "        #tolerancelist5 = tolerancelist_sp1[:len(tolerancelist_sp1)//2]\n",
    "    ##    tolerancelist10_r = find_red_tol(every_tol)\n",
    "        #tolerancelist6 = tolerancelist_sp1[len(tolerancelist_sp1)//2:]\n",
    "    ##    tolerancelist10_b = find_blue_tol(every_tol)\n",
    "        #plt.hist([tolerancelist5,tolerancelist6])\n",
    "            #continue\n",
    "        #print(max(Reacttime))\n",
    "        \n",
    "    ##if max(Reacttime) > 15.0 and max(Reacttime) < 15.015:\n",
    "    ##    tolerancelist_sp1 = tolerance.tolist()  \n",
    "    ##     tolerancelist15_r = find_red_tol(every_tol)\n",
    "    ##     tolerancelist15_b = find_blue_tol(every_tol)\n",
    "        #print(max(Reacttime))\n",
    "        \n",
    "    ## if max(Reacttime) > 20.0 and max(Reacttime) < 20.015:\n",
    "    ##     tolerancelist_sp2 = tolerance.tolist()  \n",
    "        #tolerancelist7 = tolerancelist_sp2[:len(tolerancelist_sp2)//2]\n",
    "        #tolerancelist8 = tolerancelist_sp2[len(tolerancelist_sp2)//2:]\n",
    "    ##     tolerancelist20_r = find_red_tol(every_tol)\n",
    "    ##     tolerancelist20_b = find_blue_tol(every_tol)\n",
    "        #plt.hist([tolerancelist5,tolerancelist6])\n",
    "            #continue\n",
    "        #print(max(Reacttime))\n",
    "    ## if max(Reacttime) > 25.0 and max(Reacttime) < 25.015:\n",
    "    ##     tolerancelist_sp1 = tolerance.tolist()  \n",
    "    ##     tolerancelist25_r = find_red_tol(every_tol)\n",
    "    ##     tolerancelist25_b = find_blue_tol(every_tol)\n",
    "        #print(max(Reacttime))\n",
    "        \n",
    "    ## if max(Reacttime) > 30.0 and max(Reacttime) < 30.015:\n",
    "    ##     tolerancelist_sp1 = tolerance.tolist()  \n",
    "    ##     tolerancelist30_r = find_red_tol(every_tol)\n",
    "    ##     tolerancelist30_b = find_blue_tol(every_tol)\n",
    "        #print(max(Reacttime))\n",
    "#####################################################################################################################    \n",
    " #   infect() #This uses particle binning (locality hashing) to accelerate finding nodes within a distance D\n",
    " #   infect2() #This is the simpler brute forch approach for finding nodes within a distance D\n",
    "    #space.step(1/50)\n",
    "    \n",
    "    pygame.display.update()\n",
    "    clock.tick()\n",
    "\n",
    "    if sum(tribe) == 0:#curr_r_pop == population:#\n",
    "        winner = \"red\"\n",
    "        print(\"Total red flux = \", TotalRedFlux)\n",
    "        print(\"Total blue flux = \", TotalBlueFlux)\n",
    "        print(\"Blue has\", BlueisUpBy, \"more switches than red\")\n",
    "    if sum(tribe)/len(tribe) == 1: #curr_b_pop == population:#\n",
    "        winner = \"blue\"\n",
    "        print(\"Total red flux = \", TotalRedFlux)\n",
    "        print(\"Total blue flux = \", TotalBlueFlux)\n",
    "        print(\"Blue has\", BlueisUpBy, \"more switches than red\")\n",
    "    if winner == \"red\" or winner == \"blue\":\n",
    "        print(\"Winner is\", winner)\n",
    "        #print(\"Total red flux = \", TotalRedFlux)\n",
    "        #print(\"Total blue flux = \", TotalBlueFlux)\n",
    "        #print(\"Blue has\", BlueisUpBy, \"more switches than red\")\n",
    "\n",
    "        # This code creates a histogram of tolerances at the end of the experiment\n",
    "        tolerancelist_fns = tolerance.tolist()\n",
    "        #print(tolerancelist)\n",
    "        \n",
    "        range = (0, max(tolerancelist_fns))\n",
    "        bins = int(max(tolerancelist_fns))\n",
    "        #tolerancelist1 = tolerancelist[:len(tolerancelist) // 2]\n",
    "        #tolerancelist2 = tolerancelist[len(tolerancelist) // 2:]\n",
    "        plt.hist([tolerancelist_fns], bins, range, color= 'blue', histtype='bar', rwidth=0.8)\n",
    "        plt.xlabel(\"Tolerance\")\n",
    "        plt.ylabel(\"People\")\n",
    "        #plt.savefig('A' + str(average) + \"V\" + str(stdev) + \"EX2.png\")\n",
    "        \n",
    "        plt.show()\n",
    "\n",
    "        break\n",
    "    #print(tolerance[150], tribe[150], oldtolerance[150])\n",
    "    #print(np.mean(oldtolerance))\n",
    "\n",
    "    TotalRedFlux = sum(FluxListRed)\n",
    "    TotalBlueFlux = sum(FluxListBlue)\n",
    "    BlueisUpBy = TotalBlueFlux - TotalRedFlux\n",
    "\n",
    "# This is going to plot the tolerances across the RED (tribe 1) population\n",
    "#x = np.arange(0, population / 2, 1)\n",
    "\n",
    "#y = list(tolerance[0, population / 2])\n",
    "#tick_label = ['']\n",
    "\n",
    "#plt.bar(x, y)\n",
    "#plt.show()\n"
   ]
  },
  {
   "cell_type": "code",
   "execution_count": 9,
   "id": "6e5ab43c",
   "metadata": {
    "scrolled": true
   },
   "outputs": [
    {
     "name": "stdout",
     "output_type": "stream",
     "text": [
      "1.754917860031128\n",
      "[0 0 0 0 0 0 0 0 0 0 0 0 0 0 0 0 0 0 0 0 0 0 0 0 0 0 0 0 0 0 0 0 0 0 0 0 0\n",
      " 0 0 0 0 0 0 0 0 0 0 0 0 0 0 0 0 0 0 0 0 0 0 0 0 0 0 0 0 0 0 0 0 0 0 0 0 0\n",
      " 0 0 0 0 0 0 0 0 0 0 0 0 0 0 0 0 0 0 0 0 0 0 0 0 0 0 0 0 0 0 0 0 0 0 0 0 0\n",
      " 0 0 0 0 0 0 0 0 0 0 0 0 0 0 0 0 0 0 0 0 0 0 0 0 0 0 0 0 0 0 0 0 0 0 0 0 0\n",
      " 0 0 0 0 0 0 0 0 0 0 0 0 0 0 0 0 0 0 0 0 0 0 0 0 0 0 0 0 0 0 0 0 0 0 0 0 0\n",
      " 0 0 0 0 0 0 0 0 0 0 0 0 0 0 0 0 0 0 0 0 0 0 0 0 0 0 0 0 0 0 0 0 0 0 0 0 0\n",
      " 0 0 0 0 0 0 0 0 0 0 0 0 0 0 0 0 0 0 0 0 0 0 0 0 0 0 0 0 0 0 0 0 0 0 0 0 0\n",
      " 0 0 0 0 0 0 0 0 0 0 0 0 0 0 0 0 0 0 0 0 0 0 0 0 0 0 0 0 0 0 0 0 0 0 0 0 0\n",
      " 0 0 0 0 0 0 0 0 0 0 0 0 0 0 0 0 0 0 0 0 0 0 0 0 0 0 0 0 0 0 0 0 0 0 0 0 0\n",
      " 0 0 0 0 0 0 0 0 0 0 0 0 0 0 0 0 0 0 0 0 0 0 0 0 0 0 0 0 0 0 0 0 0 0 0 0 0\n",
      " 0 0 0 0 0 0 0 0 0 0 0 0 0 0 0 0 0 0 0 0 0 0 0 0 0 0 0 0 0 0 0 0 0 0 0 0 0\n",
      " 0 0 0 0 0 0 0 0 0 0 0 0 0 0 0 0 0 0 0 0 0 0 0 0 0 0 0 0 0 0 0 0 0 0 0 0 0\n",
      " 0 0 0 0 0 0 0 0 0 0 0 0 0 0 0 0 0 0 0 0 0 0 0 0 0 0 0 0 0 0 0 0 0 0 0 0 0\n",
      " 0 0 0 0 0 0 0 0 0 0 0 0 0 0 0 0 0 0 0 1 1 1 1 1 1 1 1 1 1 1 1 1 1 1 1 1 1\n",
      " 1 1 1 1 1 1 1 1 1 1 1 1 1 1 1 1 1 1 1 1 1 1 1 1 1 1 1 1 1 1 1 1 1 1 1 1 1\n",
      " 1 1 1 1 1 1 1 1 1 1 1 1 1 1 1 1 1 1 1 1 1 1 1 1 1 1 1 1 1 1 1 1 1 1 1 1 1\n",
      " 1 1 1 1 1 1 1 1 1 1 1 1 1 1 1 1 1 1 1 1 1 1 1 1 1 1 1 1 1 1 1 1 1 1 1 1 1\n",
      " 1 1 1 1 1 1 1 1 1 1 1 1 1 1 1 1 1 1 1 1 1 1 1 1 1 1 1 1 1 1 1 1 1 1 1 1 1\n",
      " 1 1 1 1 1 1 1 1 1 1 1 1 1 1 1 1 1 1 1 1 1 1 1 1 1 1 1 1 1 1 1 1 1 1 1 1 1\n",
      " 1 1 1 1 1 1 1 1 1 1 1 1 1 1 1 1 1 1 1 1 1 1 1 1 1 1 1 1 1 1 1 1 1 1 1 1 1\n",
      " 1 1 1 1 1 1 1 1 1 1 1 1 1 1 1 1 1 1 1 1 1 1 1 1 1 1 1 1 1 1 1 1 1 1 1 1 1\n",
      " 1 1 1 1 1 1 1 1 1 1 1 1 1 1 1 1 1 1 1 1 1 1 1 1 1 1 1 1 1 1 1 1 1 1 1 1 1\n",
      " 1 1 1 1 1 1 1 1 1 1 1 1 1 1 1 1 1 1 1 1 1 1 1 1 1 1 1 1 1 1 1 1 1 1 1 1 1\n",
      " 1 1 1 1 1 1 1 1 1 1 1 1 1 1 1 1 1 1 1 1 1 1 1 1 1 1 1 1 1 1 1 1 1 1 1 1 1\n",
      " 1 1 1 1 1 1 1 1 1 1 1 1 1 1 1 1 1 1 1 1 1 1 1 1 1 1 1 1 1 1 1 1 1 1 1 1 1\n",
      " 1 1 1 1 1 1 1 1 1 1 1 1 1 1 1 1 1 1 1 1 1 1 1 1 1 1 1 1 1 1 1 1 1 1 1 1 1\n",
      " 1 1 1 1 1 1 1 1 1 1 1 1 1 1 1 1 1 1 1 1 1 1 1 1 1 1 1 1 1 1 1 1 1 1 1 1 1\n",
      " 1]\n"
     ]
    }
   ],
   "source": [
    "pygame.quit()\n",
    "print(max(Reacttime))\n",
    "print(tribe)"
   ]
  },
  {
   "cell_type": "code",
   "execution_count": 10,
   "id": "1272494a",
   "metadata": {},
   "outputs": [
    {
     "data": {
      "image/png": "[encoded data removed]",
      "text/plain": [
       "<Figure size 432x288 with 1 Axes>"
      ]
     },
     "metadata": {
      "needs_background": "light"
     },
     "output_type": "display_data"
    }
   ],
   "source": [
    "\n",
    "#plt.plot(x, y, label = \"line 1\", linestyle=\"-\")\n",
    "#plt.plot(y, x, label = \"line 2\", linestyle=\"--\")\n",
    "plt.plot(population_r, label = \"red population\", linestyle=\"-.\",color='red')\n",
    "plt.plot(population_b, label = \"blue population\", linestyle=\":\", color='blue')\n",
    "plt.legend()\n",
    "plt.show()"
   ]
  },
  {
   "cell_type": "code",
   "execution_count": 13,
   "id": "f53382fd",
   "metadata": {
    "scrolled": true
   },
   "outputs": [
    {
     "name": "stdout",
     "output_type": "stream",
     "text": [
      "1\n"
     ]
    }
   ],
   "source": [
    "print(1)"
   ]
  },
  {
   "cell_type": "code",
   "execution_count": 11,
   "id": "3345c240",
   "metadata": {},
   "outputs": [
    {
     "data": {
      "text/plain": [
       "(array([[  8.,  27.,   8.,  21.,  13.,  30., 392.,   0.,   0.,   0.],\n",
       "        [ 15.,   7.,  11.,   6.,   6.,   7.,   2.,   5.,   1.,   3.]]),\n",
       " array([ 0.07336268,  1.59573692,  3.11811116,  4.6404854 ,  6.16285964,\n",
       "         7.68523389,  9.20760813, 10.72998237, 12.25235661, 13.77473085,\n",
       "        15.29710509]),\n",
       " <a list of 2 BarContainer objects>)"
      ]
     },
     "execution_count": 11,
     "metadata": {},
     "output_type": "execute_result"
    },
    {
     "data": {
      "image/png": "[encoded data removed]",
      "text/plain": [
       "<Figure size 432x288 with 1 Axes>"
      ]
     },
     "metadata": {
      "needs_background": "light"
     },
     "output_type": "display_data"
    }
   ],
   "source": [
    "plt.hist([tolerancelist5_r,tolerancelist5_b], color=['red', 'blue'])"
   ]
  },
  {
   "cell_type": "code",
   "execution_count": 12,
   "id": "ec9fc922",
   "metadata": {},
   "outputs": [
    {
     "data": {
      "text/plain": [
       "(array([[ 11.,  39.,  13.,  39.,  22.,  36., 334.,   0.,   0.,   0.],\n",
       "        [ 18.,   9.,  12.,   9.,   4.,   7.,   3.,   4.,   0.,   2.]]),\n",
       " array([ 0.10220874,  1.66112705,  3.22004536,  4.77896367,  6.33788198,\n",
       "         7.89680029,  9.4557186 , 11.01463691, 12.57355523, 14.13247354,\n",
       "        15.69139185]),\n",
       " <a list of 2 BarContainer objects>)"
      ]
     },
     "execution_count": 12,
     "metadata": {},
     "output_type": "execute_result"
    },
    {
     "data": {
      "image/png": "[encoded data removed]",
      "text/plain": [
       "<Figure size 432x288 with 1 Axes>"
      ]
     },
     "metadata": {
      "needs_background": "light"
     },
     "output_type": "display_data"
    }
   ],
   "source": [
    "plt.hist([tolerancelist10_r,tolerancelist10_b], color=['red', 'blue'])"
   ]
  },
  {
   "cell_type": "code",
   "execution_count": 13,
   "id": "b8eb72d0",
   "metadata": {},
   "outputs": [
    {
     "data": {
      "text/plain": [
       "(array([[ 13.,  24.,  41.,  14.,  21.,  46.,  24., 268.,   0.,   0.],\n",
       "        [ 20.,  17.,  17.,  12.,   9.,  10.,  13.,   6.,   5.,   2.]]),\n",
       " array([ 0.03354398,  1.39738585,  2.76122772,  4.12506959,  5.48891146,\n",
       "         6.85275332,  8.21659519,  9.58043706, 10.94427893, 12.3081208 ,\n",
       "        13.67196266]),\n",
       " <a list of 2 BarContainer objects>)"
      ]
     },
     "execution_count": 13,
     "metadata": {},
     "output_type": "execute_result"
    },
    {
     "data": {
      "image/png": "[encoded data removed]",
      "text/plain": [
       "<Figure size 432x288 with 1 Axes>"
      ]
     },
     "metadata": {
      "needs_background": "light"
     },
     "output_type": "display_data"
    }
   ],
   "source": [
    "plt.hist([tolerancelist15_r,tolerancelist15_b], color=['red', 'blue'])"
   ]
  },
  {
   "cell_type": "code",
   "execution_count": 14,
   "id": "3369b3db",
   "metadata": {},
   "outputs": [
    {
     "data": {
      "text/plain": [
       "(array([[ 18.,  31.,  24.,  29.,  39.,  23.,  26.,  31., 213.,   0.],\n",
       "        [ 25.,  17.,  19.,  17.,  13.,  13.,   8.,   7.,   5.,   4.]]),\n",
       " array([ 0.03354398,  1.2599001 ,  2.48625621,  3.71261232,  4.93896843,\n",
       "         6.16532454,  7.39168065,  8.61803676,  9.84439287, 11.07074898,\n",
       "        12.29710509]),\n",
       " <a list of 2 BarContainer objects>)"
      ]
     },
     "execution_count": 14,
     "metadata": {},
     "output_type": "execute_result"
    },
    {
     "data": {
      "image/png": "[encoded data removed]",
      "text/plain": [
       "<Figure size 432x288 with 1 Axes>"
      ]
     },
     "metadata": {
      "needs_background": "light"
     },
     "output_type": "display_data"
    }
   ],
   "source": [
    "plt.hist([tolerancelist20_r,tolerancelist20_b], color=['red', 'blue'])"
   ]
  },
  {
   "cell_type": "code",
   "execution_count": 15,
   "id": "33ccfb17",
   "metadata": {},
   "outputs": [
    {
     "data": {
      "text/plain": [
       "(array([[ 20.,  53.,  30.,  42.,  25.,  58., 187.,   0.,   0.,   0.],\n",
       "        [ 30.,  29.,  24.,  16.,  14.,  16.,  11.,   3.,   2.,   2.]]),\n",
       " array([ 0.03354398,  1.5599001 ,  3.08625621,  4.61261232,  6.13896843,\n",
       "         7.66532454,  9.19168065, 10.71803676, 12.24439287, 13.77074898,\n",
       "        15.29710509]),\n",
       " <a list of 2 BarContainer objects>)"
      ]
     },
     "execution_count": 15,
     "metadata": {},
     "output_type": "execute_result"
    },
    {
     "data": {
      "image/png": "[encoded data removed]",
      "text/plain": [
       "<Figure size 432x288 with 1 Axes>"
      ]
     },
     "metadata": {
      "needs_background": "light"
     },
     "output_type": "display_data"
    }
   ],
   "source": [
    "plt.hist([tolerancelist25_r,tolerancelist25_b], color=['red', 'blue'])"
   ]
  },
  {
   "cell_type": "code",
   "execution_count": 16,
   "id": "e707079a",
   "metadata": {},
   "outputs": [
    {
     "data": {
      "text/plain": [
       "(array([[ 25.,  53.,  35.,  52.,  21.,  61., 148.,   0.,   0.,   0.],\n",
       "        [ 27.,  30.,  29.,  22.,  20.,  18.,  10.,   6.,   2.,   3.]]),\n",
       " array([ 0.03354398,  1.59973843,  3.16593288,  4.73212733,  6.29832177,\n",
       "         7.86451622,  9.43071067, 10.99690512, 12.56309956, 14.12929401,\n",
       "        15.69548846]),\n",
       " <a list of 2 BarContainer objects>)"
      ]
     },
     "execution_count": 16,
     "metadata": {},
     "output_type": "execute_result"
    },
    {
     "data": {
      "image/png": "[encoded data removed]",
      "text/plain": [
       "<Figure size 432x288 with 1 Axes>"
      ]
     },
     "metadata": {
      "needs_background": "light"
     },
     "output_type": "display_data"
    }
   ],
   "source": [
    "plt.hist([tolerancelist30_r,tolerancelist30_b], color=['red', 'blue'])"
   ]
  },
  {
   "cell_type": "code",
   "execution_count": null,
   "id": "f3b1a071",
   "metadata": {},
   "outputs": [],
   "source": []
  },
  {
   "cell_type": "code",
   "execution_count": null,
   "id": "ff5bc936",
   "metadata": {},
   "outputs": [],
   "source": []
  }
 ],
 "metadata": {
  "kernelspec": {
   "display_name": "Python 3 (ipykernel)",
   "language": "python",
   "name": "python3"
  },
  "language_info": {
   "codemirror_mode": {
    "name": "ipython",
    "version": 3
   },
   "file_extension": ".py",
   "mimetype": "text/x-python",
   "name": "python",
   "nbconvert_exporter": "python",
   "pygments_lexer": "ipython3",
   "version": "3.8.11"
  }
 },
 "nbformat": 4,
 "nbformat_minor": 5
}
